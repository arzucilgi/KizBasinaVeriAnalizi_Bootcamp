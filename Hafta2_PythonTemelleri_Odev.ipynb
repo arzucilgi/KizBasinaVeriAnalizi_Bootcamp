{
  "nbformat": 4,
  "nbformat_minor": 0,
  "metadata": {
    "colab": {
      "provenance": []
    },
    "kernelspec": {
      "name": "python3",
      "display_name": "Python 3"
    },
    "language_info": {
      "name": "python"
    }
  },
  "cells": [
    {
      "cell_type": "markdown",
      "source": [
        "# **Python dersi 2.hafta ödevlerini içerir.**"
      ],
      "metadata": {
        "id": "1AX_3ll0Goyt"
      }
    },
    {
      "cell_type": "markdown",
      "source": [
        "**1-girilen sayının pozitif, negatif veya sıfır olduğunu yazan**"
      ],
      "metadata": {
        "id": "6RWDc_5SHOBk"
      }
    },
    {
      "cell_type": "code",
      "source": [
        "sayi = float(input(\"Bir sayı giriniz: \"))\n",
        "\n",
        "if sayi > 0:\n",
        "    print(\"Girdiğiniz sayı pozitiftir.\")\n",
        "elif sayi < 0:\n",
        "    print(\"Girdiğiniz sayı negatiftir.\")\n",
        "else:\n",
        "    print(\"Girdiğiniz sayı sıfırdır.\")\n"
      ],
      "metadata": {
        "colab": {
          "base_uri": "https://localhost:8080/"
        },
        "id": "PcU8m7XSG0ie",
        "outputId": "05f7cb7d-630b-402b-c2e0-36afe575a180"
      },
      "execution_count": 1,
      "outputs": [
        {
          "output_type": "stream",
          "name": "stdout",
          "text": [
            "Bir sayı giriniz: 10\n",
            "Girdiğiniz sayı pozitiftir.\n"
          ]
        }
      ]
    },
    {
      "cell_type": "markdown",
      "source": [
        "**2-girilen sayının tek mi çift mi olduğunu yazan koşul**"
      ],
      "metadata": {
        "id": "u5iIQIqGHd1Y"
      }
    },
    {
      "cell_type": "code",
      "source": [
        "sayi = int(input(\"Bir sayı giriniz: \"))\n",
        "\n",
        "if sayi % 2 == 0:\n",
        "    print(\"Girdiğiniz sayı çifttir.\")\n",
        "else:\n",
        "    print(\"Girdiğiniz sayı tektir.\")"
      ],
      "metadata": {
        "colab": {
          "base_uri": "https://localhost:8080/"
        },
        "id": "yjBrkHpiHYs_",
        "outputId": "b42c655f-9a72-4b3f-d43c-7b1776722c77"
      },
      "execution_count": 2,
      "outputs": [
        {
          "output_type": "stream",
          "name": "stdout",
          "text": [
            "Bir sayı giriniz: 6\n",
            "Girdiğiniz sayı çifttir.\n"
          ]
        }
      ]
    },
    {
      "cell_type": "markdown",
      "source": [
        "**3-Girilen nota göre harf aralığını yazan koşul (80-100 A, 60-80 B vs.)**"
      ],
      "metadata": {
        "id": "2i6ikyq8HlyI"
      }
    },
    {
      "cell_type": "code",
      "source": [
        "notu = int(input(\"Notunuzu girin: \"))\n",
        "\n",
        "if notu >= 80 and notu <= 100:\n",
        "    print(\"Harf notunuz: A\")\n",
        "elif notu >= 60 and notu < 80:\n",
        "    print(\"Harf notunuz: B\")\n",
        "elif notu >= 40 and notu < 60:\n",
        "    print(\"Harf notunuz: C\")\n",
        "elif notu >= 20 and notu < 40:\n",
        "    print(\"Harf notunuz: D\")\n",
        "elif notu >= 0 and notu < 20:\n",
        "    print(\"Harf notunuz: F\")\n",
        "else:\n",
        "    print(\"Geçersiz not girdiniz.\")\n"
      ],
      "metadata": {
        "colab": {
          "base_uri": "https://localhost:8080/"
        },
        "id": "GdZy38TNHupu",
        "outputId": "b5bc2199-846e-4aa8-efec-51f01b40e6c5"
      },
      "execution_count": 3,
      "outputs": [
        {
          "output_type": "stream",
          "name": "stdout",
          "text": [
            "Notunuzu girin: 75\n",
            "Harf notunuz: B\n"
          ]
        }
      ]
    },
    {
      "cell_type": "markdown",
      "source": [
        "**4-Girilen ismin karakter sayısı 5den büyükse \"uzun bir isminiz var\" değilse ismini yazsın**"
      ],
      "metadata": {
        "id": "yB6pGT-3HzmY"
      }
    },
    {
      "cell_type": "code",
      "source": [
        "isim = input(\"İsminizi girin: \")\n",
        "\n",
        "if len(isim) > 5:\n",
        "    print(\"Uzun bir isminiz var\")\n",
        "else:\n",
        "    print(\"İsminiz:\", isim)\n"
      ],
      "metadata": {
        "colab": {
          "base_uri": "https://localhost:8080/"
        },
        "id": "n2-wP_spH4-4",
        "outputId": "3307cd21-edd7-4533-c938-6dcd7c7d2f09"
      },
      "execution_count": 5,
      "outputs": [
        {
          "output_type": "stream",
          "name": "stdout",
          "text": [
            "İsminizi girin: Arzu\n",
            "İsminiz: Arzu\n"
          ]
        }
      ]
    },
    {
      "cell_type": "markdown",
      "source": [
        "**5-girilen sayının asal olup olmadığını bulan kod dizisi. (for ve while)**"
      ],
      "metadata": {
        "id": "xu-bmc0TIBf1"
      }
    },
    {
      "cell_type": "code",
      "source": [
        "sayi = int(input(\"Bir sayı girin: \"))\n",
        "asal = True\n",
        "if sayi < 2:\n",
        "    asal = False\n",
        "else:\n",
        "    for i in range(2, sayi):\n",
        "        if sayi % i == 0:\n",
        "            asal = False\n",
        "            break\n",
        "if asal:\n",
        "    print(\"Sayı asaldır\")\n",
        "else:\n",
        "    print(\"Sayı asal değildir\")\n"
      ],
      "metadata": {
        "colab": {
          "base_uri": "https://localhost:8080/"
        },
        "id": "U0TUYsNDIGz3",
        "outputId": "5718139d-fd1c-457c-fbd3-e2e43aa8a343"
      },
      "execution_count": 6,
      "outputs": [
        {
          "output_type": "stream",
          "name": "stdout",
          "text": [
            "Bir sayı girin: 3\n",
            "Sayı asaldır\n"
          ]
        }
      ]
    },
    {
      "cell_type": "code",
      "source": [
        "sayi = int(input(\"Bir sayı girin: \"))\n",
        "asal = True\n",
        "i = 2\n",
        "if sayi < 2:\n",
        "    asal = False\n",
        "else:\n",
        "    while i < sayi:\n",
        "        if sayi % i == 0:\n",
        "            asal = False\n",
        "            break\n",
        "        i += 1\n",
        "\n",
        "if asal:\n",
        "    print(\"Sayı asaldır\")\n",
        "else:\n",
        "    print(\"Sayı asal değildir\")\n"
      ],
      "metadata": {
        "colab": {
          "base_uri": "https://localhost:8080/"
        },
        "id": "DKfCWCczJi-E",
        "outputId": "139b7959-a1b1-4ce4-f884-e3b829c97585"
      },
      "execution_count": 14,
      "outputs": [
        {
          "output_type": "stream",
          "name": "stdout",
          "text": [
            "Bir sayı girin: 10\n",
            "Sayı asal değildir\n"
          ]
        }
      ]
    },
    {
      "cell_type": "markdown",
      "source": [
        "**6-notlar=[45,85,75,50] içinde 75 değerinin indisini yazdıran döngü**"
      ],
      "metadata": {
        "id": "vzehZLPMINf5"
      }
    },
    {
      "cell_type": "code",
      "source": [
        "notlar = [45, 85, 75, 50]\n",
        "\n",
        "for i in range(len(notlar)):\n",
        "    if notlar[i] == 75:\n",
        "        print(i)\n",
        "        break\n"
      ],
      "metadata": {
        "colab": {
          "base_uri": "https://localhost:8080/"
        },
        "id": "CUNV-4Q1ITXy",
        "outputId": "421095c1-5f26-4295-c090-50ea2517e9b9"
      },
      "execution_count": 7,
      "outputs": [
        {
          "output_type": "stream",
          "name": "stdout",
          "text": [
            "2\n"
          ]
        }
      ]
    },
    {
      "cell_type": "markdown",
      "source": [
        "**7-girilen sayının faktöriyelini alalım. (for ve while)**"
      ],
      "metadata": {
        "id": "SNHvUCIOIb4-"
      }
    },
    {
      "cell_type": "code",
      "source": [
        "sayi = int(input(\"Sayı girin: \"))\n",
        "faktoriyel = 1\n",
        "\n",
        "for i in range(1, sayi + 1):\n",
        "    faktoriyel *= i\n",
        "\n",
        "print(faktoriyel)\n"
      ],
      "metadata": {
        "colab": {
          "base_uri": "https://localhost:8080/"
        },
        "id": "Dj_K9Z6_Ieih",
        "outputId": "bc0fd7b6-e42b-4ef1-c51b-22cf4bdeb238"
      },
      "execution_count": 8,
      "outputs": [
        {
          "output_type": "stream",
          "name": "stdout",
          "text": [
            "Sayı girin: 5\n",
            "120\n"
          ]
        }
      ]
    },
    {
      "cell_type": "markdown",
      "source": [
        "**8-Kullanıcıdan pozitif bir sayı bekleyen, pozitifi de gördüğü an bastıran, negatif sayı girildikçe bir daha soran yapı kuralım. (for döngüsü ile)**"
      ],
      "metadata": {
        "id": "Xnv-xGPdIjTN"
      }
    },
    {
      "cell_type": "code",
      "source": [
        "for i in range(100):\n",
        "    sayi = int(input(\"Pozitif bir sayı girin: \"))\n",
        "    if sayi > 0:\n",
        "        print(\"Girilen sayı:\", sayi)\n",
        "        break"
      ],
      "metadata": {
        "colab": {
          "base_uri": "https://localhost:8080/"
        },
        "id": "RqY69HJOIonD",
        "outputId": "b5533623-0eba-45e1-e81f-94ef7f7a0b02"
      },
      "execution_count": 9,
      "outputs": [
        {
          "output_type": "stream",
          "name": "stdout",
          "text": [
            "Pozitif bir sayı girin: 10\n",
            "Girilen sayı: 10\n"
          ]
        }
      ]
    },
    {
      "cell_type": "markdown",
      "source": [
        "**9-fonksiyon ile girilen sayının asal olup olmadığını bulan kod dizisi. (for ve while)**"
      ],
      "metadata": {
        "id": "A8Mqrpc4I3zO"
      }
    },
    {
      "cell_type": "code",
      "source": [
        "def asal_mi_for(sayi):\n",
        "    if sayi < 2:\n",
        "        return False\n",
        "    for i in range(2, sayi):\n",
        "        if sayi % i == 0:\n",
        "            return False\n",
        "    return True\n",
        "\n",
        "sayi = int(input(\"Bir sayı girin: \"))\n",
        "if asal_mi_for(sayi):\n",
        "    print(\"Sayı asaldır\")\n",
        "else:\n",
        "    print(\"Sayı asal değildir\")\n"
      ],
      "metadata": {
        "colab": {
          "base_uri": "https://localhost:8080/"
        },
        "id": "Gwk1WQn4I73z",
        "outputId": "b7852cca-b01a-4f9c-f7cd-2db6ca582007"
      },
      "execution_count": 10,
      "outputs": [
        {
          "output_type": "stream",
          "name": "stdout",
          "text": [
            "Bir sayı girin: 2\n",
            "Sayı asaldır\n"
          ]
        }
      ]
    },
    {
      "cell_type": "code",
      "source": [
        "def asal_mi_while(sayi):\n",
        "    if sayi < 2:\n",
        "        return False\n",
        "    i = 2\n",
        "    while i < sayi:\n",
        "        if sayi % i == 0:\n",
        "            return False\n",
        "        i += 1\n",
        "    return True\n",
        "\n",
        "sayi = int(input(\"Bir sayı girin: \"))\n",
        "if asal_mi_while(sayi):\n",
        "    print(\"Sayı asaldır\")\n",
        "else:\n",
        "    print(\"Sayı asal değildir\")\n"
      ],
      "metadata": {
        "colab": {
          "base_uri": "https://localhost:8080/"
        },
        "id": "wprYgO1MJGZW",
        "outputId": "b74a0194-59b9-4e45-f681-7e9a4e6bcab8"
      },
      "execution_count": 11,
      "outputs": [
        {
          "output_type": "stream",
          "name": "stdout",
          "text": [
            "Bir sayı girin: 10\n",
            "Sayı asal değildir\n"
          ]
        }
      ]
    },
    {
      "cell_type": "markdown",
      "source": [
        "**10-fonksiyon ile girilen sayının faktöriyelini alalım. (for ve while)**"
      ],
      "metadata": {
        "id": "NwGDRLugJQX4"
      }
    },
    {
      "cell_type": "code",
      "source": [
        "def faktoriyel_for(sayi):\n",
        "    sonuc = 1\n",
        "    for i in range(1, sayi + 1):\n",
        "        sonuc *= i\n",
        "    return sonuc\n",
        "\n",
        "sayi = int(input(\"Bir sayı girin: \"))\n",
        "print(\"Faktöriyel:\", faktoriyel_for(sayi))\n"
      ],
      "metadata": {
        "colab": {
          "base_uri": "https://localhost:8080/"
        },
        "id": "1wFHp4BhJS6o",
        "outputId": "b1232a90-4c7f-4f29-d016-0587c71c28aa"
      },
      "execution_count": 12,
      "outputs": [
        {
          "output_type": "stream",
          "name": "stdout",
          "text": [
            "Bir sayı girin: 8\n",
            "Faktöriyel: 40320\n"
          ]
        }
      ]
    },
    {
      "cell_type": "code",
      "source": [
        "def faktoriyel_while(sayi):\n",
        "    sonuc = 1\n",
        "    i = 1\n",
        "    while i <= sayi:\n",
        "        sonuc *= i\n",
        "        i += 1\n",
        "    return sonuc\n",
        "\n",
        "sayi = int(input(\"Bir sayı girin: \"))\n",
        "print(\"Faktöriyel:\", faktoriyel_while(sayi))\n"
      ],
      "metadata": {
        "colab": {
          "base_uri": "https://localhost:8080/"
        },
        "id": "wxrRuKfYJbdx",
        "outputId": "38b0ed38-9cae-4c18-e448-66bd334c70af"
      },
      "execution_count": 13,
      "outputs": [
        {
          "output_type": "stream",
          "name": "stdout",
          "text": [
            "Bir sayı girin: 8\n",
            "Faktöriyel: 40320\n"
          ]
        }
      ]
    }
  ]
}
